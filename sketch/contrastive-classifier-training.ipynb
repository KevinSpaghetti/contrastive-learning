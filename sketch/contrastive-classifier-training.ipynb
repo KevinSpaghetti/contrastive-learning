{
 "cells": [
  {
   "cell_type": "markdown",
   "id": "9d998328",
   "metadata": {},
   "source": [
    "## Train the model using contrastive and classification loss"
   ]
  },
  {
   "cell_type": "code",
   "execution_count": 15,
   "id": "602e09f9",
   "metadata": {
    "execution": {
     "iopub.execute_input": "2022-08-07T22:32:57.275634Z",
     "iopub.status.busy": "2022-08-07T22:32:57.274969Z",
     "iopub.status.idle": "2022-08-07T22:32:58.878850Z",
     "shell.execute_reply": "2022-08-07T22:32:58.877957Z"
    },
    "scrolled": false
   },
   "outputs": [
    {
     "name": "stdout",
     "output_type": "stream",
     "text": [
      "The autoreload extension is already loaded. To reload it, use:\n",
      "  %reload_ext autoreload\n"
     ]
    }
   ],
   "source": [
    "import pandas as pd\n",
    "import numpy as np\n",
    "import torch\n",
    "import torch.nn as nn\n",
    "from tqdm import tqdm\n",
    "import torch.nn.functional as F\n",
    "\n",
    "import matplotlib.pyplot as plt\n",
    "\n",
    "from sklearn.model_selection import train_test_split\n",
    "from sklearn.neighbors import NearestNeighbors\n",
    "\n",
    "import seaborn as sns\n",
    "sns.set_theme(color_codes=True)\n",
    "from PIL import Image\n",
    "import os\n",
    "import sys\n",
    "\n",
    "import transformers\n",
    "from transformers import AutoModelForImageClassification, AutoTokenizer, AutoConfig, AutoFeatureExtractor\n",
    "from transformers.utils import logging\n",
    "from transformers import DefaultDataCollator\n",
    "import scipy.spatial.distance as distance\n",
    "from transformers import TrainerCallback\n",
    "\n",
    "logging.set_verbosity(transformers.logging.ERROR) \n",
    "logging.disable_progress_bar() \n",
    "\n",
    "p = os.path.abspath('../')\n",
    "sys.path.insert(1, p)\n",
    "\n",
    "from torch.utils.data import DataLoader \n",
    "from functools import partial \n",
    "from torchtext.vocab import build_vocab_from_iterator\n",
    "\n",
    "from torchtext.data.utils import get_tokenizer\n",
    "from torch.utils.data import Dataset\n",
    "\n",
    "from torch.utils.data import DataLoader, Dataset\n",
    "\n",
    "from torchvision.io import read_image\n",
    "from torchvision.transforms import RandomResizedCrop, Compose, Normalize, ToTensor\n",
    "\n",
    "import evaluate\n",
    "\n",
    "from transformers import TrainingArguments, Trainer\n",
    "from src.Loss.ContrastiveLoss import SupConLoss\n",
    "from src.utils.utils import *\n",
    "from src.transforms.transforms import Noise\n",
    "from src.wordnet_ontology.wordnet_ontology import WordnetOntology\n",
    "\n",
    "import math\n",
    "import copy\n",
    "\n",
    "from collections import defaultdict\n",
    "\n",
    "import random\n",
    "import torchvision\n",
    "from torchvision.utils import make_grid\n",
    "from PIL import Image\n",
    "import torchvision.transforms as transforms\n",
    "\n",
    "from datasets import Image\n",
    "\n",
    "from src.contrastive_transformers.datasets import AutoAugmentDataset\n",
    "from src.contrastive_transformers.trainers import ContrastiveTrainer\n",
    "from torchvision.transforms import CenterCrop\n",
    "from src.contrastive_transformers.collators import ImageCollator\n",
    "\n",
    "import os\n",
    "from datasets import load_dataset\n",
    "\n",
    "n_excluded_classes = int(556 * 0.05)\n",
    "\n",
    "seed=7361\n",
    "random.seed(seed)\n",
    "np.random.seed(seed)\n",
    "torch.manual_seed(seed)\n",
    "torch.cuda.manual_seed(seed)\n",
    "torch.backends.cudnn.deterministic = True\n",
    "\n",
    "%load_ext autoreload\n",
    "%autoreload 2\n",
    "\n",
    "device = torch.device('cuda' if torch.cuda.is_available() else 'cpu')\n",
    "\n",
    "mapping_filename = './data/external/imagenet/LOC_synset_mapping.txt'\n",
    "wn = WordnetOntology(mapping_filename)\n",
    "\n",
    "vocab = torch.load('./models/vocab.pt')"
   ]
  },
  {
   "cell_type": "markdown",
   "id": "2578081a",
   "metadata": {},
   "source": [
    "## Preparing datasets"
   ]
  },
  {
   "cell_type": "code",
   "execution_count": 16,
   "id": "fecb18f3",
   "metadata": {},
   "outputs": [
    {
     "name": "stderr",
     "output_type": "stream",
     "text": [
      "Found cached dataset imagenet_sketch (/mnt/HDD/kevinds/sketch/./cache/imagenet_sketch/default/0.0.0/9bbda26372327ae1daa792112c8bbd2545a91b9f397ea6f285576add0a70ab6e)\n",
      "Loading cached processed dataset at /mnt/HDD/kevinds/sketch/./cache/imagenet_sketch/default/0.0.0/9bbda26372327ae1daa792112c8bbd2545a91b9f397ea6f285576add0a70ab6e/cache-5250d933f01067b4.arrow\n"
     ]
    }
   ],
   "source": [
    "sketch = load_dataset(\"imagenet_sketch\", split='train', cache_dir='./cache/')\n",
    "def get_hclass(x):\n",
    "    _class = wn.class_for_index[x['label']] \n",
    "    return { \n",
    "        'label': vocab[wn.hypernym(_class)] \n",
    "    }\n",
    "\n",
    "sketch = sketch.map(get_hclass)"
   ]
  },
  {
   "cell_type": "code",
   "execution_count": 17,
   "id": "acb5c7b2",
   "metadata": {},
   "outputs": [],
   "source": [
    "_classes = list(set(sketch['label']))\n",
    "excluded_classes = [random.choice(_classes) for i in range(n_excluded_classes)]\n",
    "dt = train_test_split(sketch, excluded_labels=excluded_classes)\n",
    "train, test = dt['train'], dt['test']"
   ]
  },
  {
   "cell_type": "code",
   "execution_count": 18,
   "id": "51ea3b01",
   "metadata": {
    "scrolled": true
   },
   "outputs": [
    {
     "data": {
      "text/plain": [
       "['n02085374',\n",
       " 'n04490091',\n",
       " 'n01632047',\n",
       " 'n12056217',\n",
       " 'n02329401',\n",
       " 'n04015204',\n",
       " 'n04100174',\n",
       " 'n02087122',\n",
       " 'n02453611',\n",
       " 'n02796623',\n",
       " 'n03211117',\n",
       " 'n03706653',\n",
       " 'n04202417',\n",
       " 'n02887209',\n",
       " 'n04549122',\n",
       " 'n01703569',\n",
       " 'n04586421',\n",
       " 'n12157056',\n",
       " 'n03953416',\n",
       " 'n04520170',\n",
       " 'n01816887',\n",
       " 'n02534734',\n",
       " 'n04187061',\n",
       " 'n06595351',\n",
       " 'n04151581',\n",
       " 'n02268148',\n",
       " 'n15074962']"
      ]
     },
     "execution_count": 18,
     "metadata": {},
     "output_type": "execute_result"
    }
   ],
   "source": [
    "[vocab.get_itos()[_cl] for _cl in excluded_classes]"
   ]
  },
  {
   "cell_type": "code",
   "execution_count": 19,
   "id": "40bd0eba",
   "metadata": {},
   "outputs": [],
   "source": [
    "imagenet_classes_folder = './data/external/imagenet/ILSVRC/Data/CLS-LOC/train'\n",
    "\n",
    "image_labels = [] \n",
    "image_paths = []\n",
    "\n",
    "N_IMAGENET_EXAMPLES = 100\n",
    "imagenet_classes = sorted(os.listdir(imagenet_classes_folder))\n",
    "for img_class in imagenet_classes:\n",
    "    all_imgs = os.listdir(f\"{imagenet_classes_folder}/{img_class}/\")\n",
    "    img_names = [random.choice(all_imgs) for _ in range(0, N_IMAGENET_EXAMPLES)]\n",
    "                              \n",
    "    image_paths.extend([f\"{imagenet_classes_folder}/{img_class}/{name}\" for name in img_names])\n",
    "    image_labels.extend([img_class] * len(img_names))"
   ]
  },
  {
   "cell_type": "code",
   "execution_count": 8,
   "id": "1b783ae0",
   "metadata": {},
   "outputs": [
    {
     "name": "stdout",
     "output_type": "stream",
     "text": [
      "Image and class data\n",
      "                                                    image  label\n",
      "0       ./cache/downloads/extracted/b7724a58d90ea10a91...     34\n",
      "1       ./cache/downloads/extracted/b7724a58d90ea10a91...    374\n",
      "2       ./cache/downloads/extracted/b7724a58d90ea10a91...    386\n",
      "3       ./cache/downloads/extracted/b7724a58d90ea10a91...    133\n",
      "4       ./cache/downloads/extracted/b7724a58d90ea10a91...    546\n",
      "...                                                   ...    ...\n",
      "138365  ./data/external/imagenet/ILSVRC/Data/CLS-LOC/t...    555\n",
      "138366  ./data/external/imagenet/ILSVRC/Data/CLS-LOC/t...    555\n",
      "138367  ./data/external/imagenet/ILSVRC/Data/CLS-LOC/t...    555\n",
      "138368  ./data/external/imagenet/ILSVRC/Data/CLS-LOC/t...    555\n",
      "138369  ./data/external/imagenet/ILSVRC/Data/CLS-LOC/t...    555\n",
      "\n",
      "[138370 rows x 2 columns]\n",
      "\n"
     ]
    }
   ],
   "source": [
    "tr = train.cast_column('image', Image(decode=False))\n",
    "train_data = pd.concat([\n",
    "    pd.DataFrame({'image': [p['path'] for p in tr['image']], 'label': tr['label']}), \n",
    "    pd.DataFrame({'image': image_paths, 'label': [vocab[wn.hypernym(cl)] for cl in image_labels]})\n",
    "], axis=0).reset_index(drop=True)\n",
    "print(\"Image and class data\")\n",
    "print(train_data)\n",
    "print()"
   ]
  },
  {
   "cell_type": "code",
   "execution_count": 9,
   "id": "effd4a4d",
   "metadata": {},
   "outputs": [],
   "source": [
    "feature_extractor = AutoFeatureExtractor.from_pretrained(\"google/vit-base-patch16-224-in21k\")\n",
    "\n",
    "augment = transforms.Compose([\n",
    "    transforms.ConvertImageDtype(torch.float),\n",
    "    transforms.RandomApply([Noise(0.25)], p=0.5),\n",
    "    CenterCrop(feature_extractor.size),  \n",
    "    Normalize(mean=feature_extractor.image_mean, std=feature_extractor.image_std),\n",
    "])\n",
    "transform = Compose([\n",
    "    transforms.ConvertImageDtype(torch.float),\n",
    "    CenterCrop(feature_extractor.size),  \n",
    "    Normalize(mean=feature_extractor.image_mean, std=feature_extractor.image_std),\n",
    "])\n",
    "\n",
    "# final huggingface dataset\n",
    "train = AutoAugmentDataset(train_data['image'], train_data['label'], return_negative=False)\n",
    "data_collator = ImageCollator(transform, None, augment)"
   ]
  },
  {
   "cell_type": "markdown",
   "id": "5009e395",
   "metadata": {},
   "source": [
    "## Train the model"
   ]
  },
  {
   "cell_type": "code",
   "execution_count": 10,
   "id": "6580928d",
   "metadata": {},
   "outputs": [],
   "source": [
    "torch.hub.set_dir('../cache')\n",
    "model = AutoModelForImageClassification.from_pretrained(\n",
    "    \"google/vit-base-patch16-224-in21k\", \n",
    "    num_labels=len(vocab),\n",
    "    label2id=vocab.get_stoi(),\n",
    "    id2label=dict(enumerate(vocab.get_itos()))\n",
    ")"
   ]
  },
  {
   "cell_type": "code",
   "execution_count": 11,
   "id": "c8f67ed4",
   "metadata": {},
   "outputs": [],
   "source": [
    "accuracyk = evaluate.load(\"KevinSpaghetti/accuracyk\")\n",
    "def compute_metrics(eval_pred):\n",
    "    logits, labels = eval_pred\n",
    "    \n",
    "    k=5\n",
    "    top1_pred = np.argmax(logits, axis=-1, keepdims=True)\n",
    "    top5_pred = np.argpartition(logits, -k, axis=-1)[:, -k:]\n",
    "    \n",
    "    top1 = accuracyk.compute(predictions=top1_pred, references=labels)\n",
    "    top5 = accuracyk.compute(predictions=top5_pred, references=labels)\n",
    "    return {\n",
    "        'top1': top1['accuracy'],\n",
    "        'top5': top5['accuracy']\n",
    "    }\n",
    "\n",
    "cb = StoreLosses()"
   ]
  },
  {
   "cell_type": "code",
   "execution_count": 12,
   "id": "910235a5",
   "metadata": {},
   "outputs": [
    {
     "name": "stderr",
     "output_type": "stream",
     "text": [
      "Using cuda_amp half precision backend\n",
      "***** Running training *****\n",
      "  Num examples = 138370\n",
      "  Num Epochs = 16\n",
      "  Instantaneous batch size per device = 32\n",
      "  Total train batch size (w. parallel, distributed & accumulation) = 256\n",
      "  Gradient Accumulation steps = 8\n",
      "  Total optimization steps = 8640\n",
      "Automatic Weights & Biases logging enabled, to disable set os.environ[\"WANDB_DISABLED\"] = \"true\"\n",
      "Failed to detect the name of this notebook, you can set it manually with the WANDB_NOTEBOOK_NAME environment variable to enable code saving.\n",
      "\u001b[34m\u001b[1mwandb\u001b[0m: Currently logged in as: \u001b[33mkevindellaschiava\u001b[0m. Use \u001b[1m`wandb login --relogin`\u001b[0m to force relogin\n"
     ]
    },
    {
     "data": {
      "text/html": [
       "wandb version 0.13.4 is available!  To upgrade, please run:\n",
       " $ pip install wandb --upgrade"
      ],
      "text/plain": [
       "<IPython.core.display.HTML object>"
      ]
     },
     "metadata": {},
     "output_type": "display_data"
    },
    {
     "data": {
      "text/html": [
       "Tracking run with wandb version 0.13.3"
      ],
      "text/plain": [
       "<IPython.core.display.HTML object>"
      ]
     },
     "metadata": {},
     "output_type": "display_data"
    },
    {
     "data": {
      "text/html": [
       "Run data is saved locally in <code>/mnt/HDD/kevinds/sketch/wandb/run-20221026_211933-yy5xdadh</code>"
      ],
      "text/plain": [
       "<IPython.core.display.HTML object>"
      ]
     },
     "metadata": {},
     "output_type": "display_data"
    },
    {
     "data": {
      "text/html": [
       "Syncing run <strong><a href=\"https://wandb.ai/kevindellaschiava/huggingface/runs/yy5xdadh\" target=\"_blank\">./models/contrastive-classifier-4896</a></strong> to <a href=\"https://wandb.ai/kevindellaschiava/huggingface\" target=\"_blank\">Weights & Biases</a> (<a href=\"https://wandb.me/run\" target=\"_blank\">docs</a>)<br/>"
      ],
      "text/plain": [
       "<IPython.core.display.HTML object>"
      ]
     },
     "metadata": {},
     "output_type": "display_data"
    },
    {
     "name": "stderr",
     "output_type": "stream",
     "text": [
      "Could not estimate the number of tokens of the input, floating-point operations will not be computed\n"
     ]
    },
    {
     "data": {
      "text/html": [
       "\n",
       "    <div>\n",
       "      \n",
       "      <progress value='8640' max='8640' style='width:300px; height:20px; vertical-align: middle;'></progress>\n",
       "      [8640/8640 6:53:57, Epoch 15/16]\n",
       "    </div>\n",
       "    <table border=\"1\" class=\"dataframe\">\n",
       "  <thead>\n",
       " <tr style=\"text-align: left;\">\n",
       "      <th>Step</th>\n",
       "      <th>Training Loss</th>\n",
       "    </tr>\n",
       "  </thead>\n",
       "  <tbody>\n",
       "    <tr>\n",
       "      <td>500</td>\n",
       "      <td>127.081500</td>\n",
       "    </tr>\n",
       "    <tr>\n",
       "      <td>1000</td>\n",
       "      <td>70.223200</td>\n",
       "    </tr>\n",
       "    <tr>\n",
       "      <td>1500</td>\n",
       "      <td>52.262800</td>\n",
       "    </tr>\n",
       "    <tr>\n",
       "      <td>2000</td>\n",
       "      <td>41.789200</td>\n",
       "    </tr>\n",
       "    <tr>\n",
       "      <td>2500</td>\n",
       "      <td>35.279400</td>\n",
       "    </tr>\n",
       "    <tr>\n",
       "      <td>3000</td>\n",
       "      <td>30.999500</td>\n",
       "    </tr>\n",
       "    <tr>\n",
       "      <td>3500</td>\n",
       "      <td>27.876200</td>\n",
       "    </tr>\n",
       "    <tr>\n",
       "      <td>4000</td>\n",
       "      <td>25.765800</td>\n",
       "    </tr>\n",
       "    <tr>\n",
       "      <td>4500</td>\n",
       "      <td>23.898700</td>\n",
       "    </tr>\n",
       "    <tr>\n",
       "      <td>5000</td>\n",
       "      <td>22.427000</td>\n",
       "    </tr>\n",
       "    <tr>\n",
       "      <td>5500</td>\n",
       "      <td>21.249000</td>\n",
       "    </tr>\n",
       "    <tr>\n",
       "      <td>6000</td>\n",
       "      <td>20.382500</td>\n",
       "    </tr>\n",
       "    <tr>\n",
       "      <td>6500</td>\n",
       "      <td>19.463600</td>\n",
       "    </tr>\n",
       "    <tr>\n",
       "      <td>7000</td>\n",
       "      <td>18.752900</td>\n",
       "    </tr>\n",
       "    <tr>\n",
       "      <td>7500</td>\n",
       "      <td>18.369200</td>\n",
       "    </tr>\n",
       "    <tr>\n",
       "      <td>8000</td>\n",
       "      <td>17.952700</td>\n",
       "    </tr>\n",
       "    <tr>\n",
       "      <td>8500</td>\n",
       "      <td>17.625700</td>\n",
       "    </tr>\n",
       "  </tbody>\n",
       "</table><p>"
      ],
      "text/plain": [
       "<IPython.core.display.HTML object>"
      ]
     },
     "metadata": {},
     "output_type": "display_data"
    },
    {
     "name": "stderr",
     "output_type": "stream",
     "text": [
      "Saving model checkpoint to ./models/contrastive-classifier-4896/checkpoint-540\n",
      "Configuration saved in ./models/contrastive-classifier-4896/checkpoint-540/config.json\n",
      "Model weights saved in ./models/contrastive-classifier-4896/checkpoint-540/pytorch_model.bin\n",
      "Feature extractor saved in ./models/contrastive-classifier-4896/checkpoint-540/preprocessor_config.json\n",
      "Saving model checkpoint to ./models/contrastive-classifier-4896/checkpoint-1080\n",
      "Configuration saved in ./models/contrastive-classifier-4896/checkpoint-1080/config.json\n",
      "Model weights saved in ./models/contrastive-classifier-4896/checkpoint-1080/pytorch_model.bin\n",
      "Feature extractor saved in ./models/contrastive-classifier-4896/checkpoint-1080/preprocessor_config.json\n",
      "Saving model checkpoint to ./models/contrastive-classifier-4896/checkpoint-1620\n",
      "Configuration saved in ./models/contrastive-classifier-4896/checkpoint-1620/config.json\n",
      "Model weights saved in ./models/contrastive-classifier-4896/checkpoint-1620/pytorch_model.bin\n",
      "Feature extractor saved in ./models/contrastive-classifier-4896/checkpoint-1620/preprocessor_config.json\n",
      "Deleting older checkpoint [models/contrastive-classifier-4896/checkpoint-540] due to args.save_total_limit\n",
      "Saving model checkpoint to ./models/contrastive-classifier-4896/checkpoint-2160\n",
      "Configuration saved in ./models/contrastive-classifier-4896/checkpoint-2160/config.json\n",
      "Model weights saved in ./models/contrastive-classifier-4896/checkpoint-2160/pytorch_model.bin\n",
      "Feature extractor saved in ./models/contrastive-classifier-4896/checkpoint-2160/preprocessor_config.json\n",
      "Deleting older checkpoint [models/contrastive-classifier-4896/checkpoint-1080] due to args.save_total_limit\n",
      "Saving model checkpoint to ./models/contrastive-classifier-4896/checkpoint-2700\n",
      "Configuration saved in ./models/contrastive-classifier-4896/checkpoint-2700/config.json\n",
      "Model weights saved in ./models/contrastive-classifier-4896/checkpoint-2700/pytorch_model.bin\n",
      "Feature extractor saved in ./models/contrastive-classifier-4896/checkpoint-2700/preprocessor_config.json\n",
      "Deleting older checkpoint [models/contrastive-classifier-4896/checkpoint-1620] due to args.save_total_limit\n",
      "Saving model checkpoint to ./models/contrastive-classifier-4896/checkpoint-3240\n",
      "Configuration saved in ./models/contrastive-classifier-4896/checkpoint-3240/config.json\n",
      "Model weights saved in ./models/contrastive-classifier-4896/checkpoint-3240/pytorch_model.bin\n",
      "Feature extractor saved in ./models/contrastive-classifier-4896/checkpoint-3240/preprocessor_config.json\n",
      "Deleting older checkpoint [models/contrastive-classifier-4896/checkpoint-2160] due to args.save_total_limit\n",
      "Saving model checkpoint to ./models/contrastive-classifier-4896/checkpoint-3780\n",
      "Configuration saved in ./models/contrastive-classifier-4896/checkpoint-3780/config.json\n",
      "Model weights saved in ./models/contrastive-classifier-4896/checkpoint-3780/pytorch_model.bin\n",
      "Feature extractor saved in ./models/contrastive-classifier-4896/checkpoint-3780/preprocessor_config.json\n",
      "Deleting older checkpoint [models/contrastive-classifier-4896/checkpoint-2700] due to args.save_total_limit\n",
      "Saving model checkpoint to ./models/contrastive-classifier-4896/checkpoint-4320\n",
      "Configuration saved in ./models/contrastive-classifier-4896/checkpoint-4320/config.json\n",
      "Model weights saved in ./models/contrastive-classifier-4896/checkpoint-4320/pytorch_model.bin\n",
      "Feature extractor saved in ./models/contrastive-classifier-4896/checkpoint-4320/preprocessor_config.json\n",
      "Deleting older checkpoint [models/contrastive-classifier-4896/checkpoint-3240] due to args.save_total_limit\n",
      "Saving model checkpoint to ./models/contrastive-classifier-4896/checkpoint-4860\n",
      "Configuration saved in ./models/contrastive-classifier-4896/checkpoint-4860/config.json\n",
      "Model weights saved in ./models/contrastive-classifier-4896/checkpoint-4860/pytorch_model.bin\n",
      "Feature extractor saved in ./models/contrastive-classifier-4896/checkpoint-4860/preprocessor_config.json\n",
      "Deleting older checkpoint [models/contrastive-classifier-4896/checkpoint-3780] due to args.save_total_limit\n",
      "Saving model checkpoint to ./models/contrastive-classifier-4896/checkpoint-5400\n",
      "Configuration saved in ./models/contrastive-classifier-4896/checkpoint-5400/config.json\n",
      "Model weights saved in ./models/contrastive-classifier-4896/checkpoint-5400/pytorch_model.bin\n",
      "Feature extractor saved in ./models/contrastive-classifier-4896/checkpoint-5400/preprocessor_config.json\n",
      "Deleting older checkpoint [models/contrastive-classifier-4896/checkpoint-4320] due to args.save_total_limit\n",
      "Saving model checkpoint to ./models/contrastive-classifier-4896/checkpoint-5940\n",
      "Configuration saved in ./models/contrastive-classifier-4896/checkpoint-5940/config.json\n",
      "Model weights saved in ./models/contrastive-classifier-4896/checkpoint-5940/pytorch_model.bin\n",
      "Feature extractor saved in ./models/contrastive-classifier-4896/checkpoint-5940/preprocessor_config.json\n",
      "Deleting older checkpoint [models/contrastive-classifier-4896/checkpoint-4860] due to args.save_total_limit\n",
      "Saving model checkpoint to ./models/contrastive-classifier-4896/checkpoint-6480\n",
      "Configuration saved in ./models/contrastive-classifier-4896/checkpoint-6480/config.json\n",
      "Model weights saved in ./models/contrastive-classifier-4896/checkpoint-6480/pytorch_model.bin\n",
      "Feature extractor saved in ./models/contrastive-classifier-4896/checkpoint-6480/preprocessor_config.json\n",
      "Deleting older checkpoint [models/contrastive-classifier-4896/checkpoint-5400] due to args.save_total_limit\n",
      "Saving model checkpoint to ./models/contrastive-classifier-4896/checkpoint-7020\n",
      "Configuration saved in ./models/contrastive-classifier-4896/checkpoint-7020/config.json\n",
      "Model weights saved in ./models/contrastive-classifier-4896/checkpoint-7020/pytorch_model.bin\n",
      "Feature extractor saved in ./models/contrastive-classifier-4896/checkpoint-7020/preprocessor_config.json\n",
      "Deleting older checkpoint [models/contrastive-classifier-4896/checkpoint-5940] due to args.save_total_limit\n",
      "Saving model checkpoint to ./models/contrastive-classifier-4896/checkpoint-7560\n",
      "Configuration saved in ./models/contrastive-classifier-4896/checkpoint-7560/config.json\n",
      "Model weights saved in ./models/contrastive-classifier-4896/checkpoint-7560/pytorch_model.bin\n",
      "Feature extractor saved in ./models/contrastive-classifier-4896/checkpoint-7560/preprocessor_config.json\n",
      "Deleting older checkpoint [models/contrastive-classifier-4896/checkpoint-6480] due to args.save_total_limit\n",
      "Saving model checkpoint to ./models/contrastive-classifier-4896/checkpoint-8100\n",
      "Configuration saved in ./models/contrastive-classifier-4896/checkpoint-8100/config.json\n",
      "Model weights saved in ./models/contrastive-classifier-4896/checkpoint-8100/pytorch_model.bin\n",
      "Feature extractor saved in ./models/contrastive-classifier-4896/checkpoint-8100/preprocessor_config.json\n",
      "Deleting older checkpoint [models/contrastive-classifier-4896/checkpoint-7020] due to args.save_total_limit\n",
      "Saving model checkpoint to ./models/contrastive-classifier-4896/checkpoint-8640\n",
      "Configuration saved in ./models/contrastive-classifier-4896/checkpoint-8640/config.json\n",
      "Model weights saved in ./models/contrastive-classifier-4896/checkpoint-8640/pytorch_model.bin\n",
      "Feature extractor saved in ./models/contrastive-classifier-4896/checkpoint-8640/preprocessor_config.json\n",
      "Deleting older checkpoint [models/contrastive-classifier-4896/checkpoint-7560] due to args.save_total_limit\n",
      "\n",
      "\n",
      "Training completed. Do not forget to share your model on huggingface.co/models =)\n",
      "\n",
      "\n"
     ]
    },
    {
     "data": {
      "text/plain": [
       "TrainOutput(global_step=8640, training_loss=34.508338165283206, metrics={'train_runtime': 24844.9731, 'train_samples_per_second': 89.109, 'train_steps_per_second': 0.348, 'total_flos': 0.0, 'train_loss': 34.508338165283206, 'epoch': 16.0})"
      ]
     },
     "execution_count": 12,
     "metadata": {},
     "output_type": "execute_result"
    }
   ],
   "source": [
    "training_args = TrainingArguments(\n",
    "    output_dir=f\"./models/contrastive-classifier-{seed}\",\n",
    "    num_train_epochs=16,\n",
    "    learning_rate=2e-4,\n",
    "    save_strategy='epoch',\n",
    "    disable_tqdm=False,\n",
    "    save_total_limit=2,\n",
    "    per_device_train_batch_size=32,\n",
    "    per_device_eval_batch_size=8,\n",
    "    gradient_accumulation_steps=8,\n",
    "    warmup_steps=200,\n",
    "    weight_decay=0.01,\n",
    "    remove_unused_columns=False,\n",
    "    logging_steps=500,\n",
    "    dataloader_num_workers=4,\n",
    "    dataloader_pin_memory=True,\n",
    "    fp16=True,\n",
    "    fp16_opt_level='03',\n",
    "    report_to=\"wandb\",\n",
    "    optim=\"adamw_torch\"\n",
    ")\n",
    "\n",
    "contrastive_head = nn.Sequential(\n",
    "    nn.Linear(768, 768 // 2),\n",
    "    nn.ReLU(),\n",
    "    nn.Linear(768 // 2, 768 // 4),\n",
    "    nn.ReLU(),\n",
    "    nn.Linear(768 // 4, 768 // 8),\n",
    ")\n",
    "\n",
    "cl_loss = nn.CrossEntropyLoss()\n",
    "ct_loss = SupConLoss(0.2)\n",
    "\n",
    "def loss_adapter(anchor_encodings, \n",
    "                 positive_encodings, \n",
    "                 negative_encodings, \n",
    "                 labels, \n",
    "                 negative_labels, \n",
    "                 anchor_outputs, positive_outputs, negative_outputs):\n",
    "    contrastive_loss = (\n",
    "        ct_loss(anchor_encodings, positive_encodings, labels) + \n",
    "        ct_loss(positive_encodings, anchor_encodings, labels)\n",
    "    )\n",
    "    classification_loss = (\n",
    "        cl_loss(anchor_outputs.get('logits'), labels) + \n",
    "        cl_loss(positive_outputs.get('logits'), labels)\n",
    "    )   \n",
    "    if negative_labels is not None and negative_outputs is not None:\n",
    "        classification_loss = cl_loss(negative_outputs.get('logits'), negative_labels)\n",
    "    \n",
    "    return classification_loss + contrastive_loss\n",
    "\n",
    "trainer = ContrastiveTrainer(\n",
    "    loss=loss_adapter,\n",
    "    head=contrastive_head,\n",
    "    use_negatives=False,\n",
    "    model=model,\n",
    "    args=training_args,\n",
    "    data_collator=data_collator,\n",
    "    train_dataset=train,\n",
    "    compute_metrics=compute_metrics,\n",
    "    tokenizer=feature_extractor,\n",
    "    callbacks=[cb]\n",
    ")\n",
    "\n",
    "trainer.train()"
   ]
  },
  {
   "cell_type": "code",
   "execution_count": 13,
   "id": "a5b51bb9",
   "metadata": {},
   "outputs": [
    {
     "data": {
      "image/png": "[encoded data removed]",
      "text/plain": [
       "<Figure size 1152x288 with 3 Axes>"
      ]
     },
     "metadata": {
      "needs_background": "light"
     },
     "output_type": "display_data"
    }
   ],
   "source": [
    "fig = plt.figure(figsize=(16, 4))\n",
    "ax = plt.GridSpec(1, 3, figure=fig)\n",
    "\n",
    "class_ax = plt.subplot(ax[0, 0])\n",
    "contr_ax = plt.subplot(ax[0, 1])\n",
    "test_ax = plt.subplot(ax[0, 2])\n",
    "\n",
    "class_ax.set_title(\"train loss\")\n",
    "contr_ax.set_title(\"eval loss\")\n",
    "test_ax.set_title(\"eval accuracy\") #classification loss on the test dataset\n",
    "\n",
    "sns.lineplot(x=range(1, len(cb.train_loss) + 1), y=cb.train_loss, ax=contr_ax)\n",
    "sns.lineplot(x=range(1, len(cb.eval_loss) + 1), y=cb.eval_loss, ax=class_ax)\n",
    "sns.lineplot(x=range(1, len(cb.top1) + 1), y=cb.top1, ax=test_ax)\n",
    "\n",
    "fig.show()"
   ]
  }
 ],
 "metadata": {
  "kernelspec": {
   "display_name": "venv",
   "language": "python",
   "name": "venv"
  },
  "language_info": {
   "codemirror_mode": {
    "name": "ipython",
    "version": 3
   },
   "file_extension": ".py",
   "mimetype": "text/x-python",
   "name": "python",
   "nbconvert_exporter": "python",
   "pygments_lexer": "ipython3",
   "version": "3.8.6"
  }
 },
 "nbformat": 4,
 "nbformat_minor": 5
}
