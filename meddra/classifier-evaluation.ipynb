{
 "cells": [
  {
   "cell_type": "markdown",
   "id": "a9db0c62",
   "metadata": {},
   "source": [
    "## Evaluate models based on classifier"
   ]
  },
  {
   "cell_type": "code",
   "execution_count": 2,
   "id": "cdfa10a6",
   "metadata": {
    "execution": {
     "iopub.execute_input": "2022-08-27T19:46:18.307270Z",
     "iopub.status.busy": "2022-08-27T19:46:18.306591Z",
     "iopub.status.idle": "2022-08-27T19:46:20.236740Z",
     "shell.execute_reply": "2022-08-27T19:46:20.235593Z"
    }
   },
   "outputs": [
    {
     "name": "stdout",
     "output_type": "stream",
     "text": [
      "The autoreload extension is already loaded. To reload it, use:\n",
      "  %reload_ext autoreload\n"
     ]
    }
   ],
   "source": [
    "import os\n",
    "import sys\n",
    "import random\n",
    "import evaluate\n",
    "\n",
    "p = os.path.abspath('../')\n",
    "sys.path.insert(1, p)\n",
    "\n",
    "os.environ[\"TOKENIZERS_PARALLELISM\"] = \"true\"\n",
    "os.environ[\"TRANSFORMERS_NO_ADVISORY_WARNINGS\"] = \"1\"\n",
    "\n",
    "import transformers\n",
    "transformers.logging.set_verbosity_error()\n",
    "\n",
    "import pandas as pd\n",
    "import numpy as np\n",
    "import torch\n",
    "import torch.nn as nn\n",
    "from tqdm import tqdm\n",
    "import torch.nn.functional as F\n",
    "\n",
    "import matplotlib.pyplot as plt\n",
    "\n",
    "from datasets import Dataset, load_dataset, Split\n",
    "\n",
    "import seaborn as sns\n",
    "sns.set_theme(color_codes=True)\n",
    "\n",
    "from transformers import AutoModelForSequenceClassification, DataCollatorWithPadding, Trainer, TrainingArguments\n",
    "\n",
    "from src.contrastive_transformers.collators import TextCollator\n",
    "from src.contrastive_transformers.datasets import AutoAugmentDataset\n",
    "from src.contrastive_transformers.trainers import ContrastiveTrainer\n",
    "from src.contrastive_transformers.losses import SupConLoss\n",
    "\n",
    "from src.utils.utils import * \n",
    "\n",
    "seed = 7631\n",
    "random.seed(seed)\n",
    "np.random.seed(seed)\n",
    "torch.manual_seed(seed)\n",
    "torch.cuda.manual_seed(seed)\n",
    "torch.backends.cudnn.deterministic = True\n",
    "\n",
    "device = torch.device('cuda' if torch.cuda.is_available() else 'cpu')\n",
    "\n",
    "%load_ext autoreload\n",
    "%autoreload 2"
   ]
  },
  {
   "cell_type": "code",
   "execution_count": 9,
   "id": "aff0f461",
   "metadata": {
    "execution": {
     "iopub.execute_input": "2022-08-27T19:46:20.508106Z",
     "iopub.status.busy": "2022-08-27T19:46:20.507773Z",
     "iopub.status.idle": "2022-08-27T19:46:20.652229Z",
     "shell.execute_reply": "2022-08-27T19:46:20.651081Z"
    },
    "scrolled": true
   },
   "outputs": [
    {
     "name": "stderr",
     "output_type": "stream",
     "text": [
      "Using custom data configuration KevinSpaghetti--smm4h20-9b0cef5ffb10261f\n",
      "Found cached dataset parquet (/home/kevinds/.cache/huggingface/datasets/KevinSpaghetti___parquet/KevinSpaghetti--smm4h20-9b0cef5ffb10261f/0.0.0/2a3b91fbd88a2c90d1dbbb32b460cf621d31bd5b05b934492fdef7d8d6f236ec)\n"
     ]
    },
    {
     "data": {
      "application/vnd.jupyter.widget-view+json": {
       "model_id": "a2117ceb536745138a57aed9f0382bba",
       "version_major": 2,
       "version_minor": 0
      },
      "text/plain": [
       "  0%|          | 0/2 [00:00<?, ?it/s]"
      ]
     },
     "metadata": {},
     "output_type": "display_data"
    },
    {
     "name": "stderr",
     "output_type": "stream",
     "text": [
      "Using custom data configuration KevinSpaghetti--cadec-d97aca76af8be810\n",
      "Found cached dataset parquet (/home/kevinds/.cache/huggingface/datasets/KevinSpaghetti___parquet/KevinSpaghetti--cadec-d97aca76af8be810/0.0.0/2a3b91fbd88a2c90d1dbbb32b460cf621d31bd5b05b934492fdef7d8d6f236ec)\n"
     ]
    },
    {
     "data": {
      "application/vnd.jupyter.widget-view+json": {
       "model_id": "1a27c9e33e7647c8b7b6330ac4409cca",
       "version_major": 2,
       "version_minor": 0
      },
      "text/plain": [
       "  0%|          | 0/2 [00:00<?, ?it/s]"
      ]
     },
     "metadata": {},
     "output_type": "display_data"
    }
   ],
   "source": [
    "smm4h20 = load_dataset('KevinSpaghetti/smm4h20')\n",
    "cadec = load_dataset('KevinSpaghetti/cadec')\n",
    "\n",
    "meddra_ontology = pd.read_csv('./data/processed/meddra_ontology.csv')\n",
    "all_pts = meddra_ontology['term_PT'].unique()\n",
    "\n",
    "llt_pt_examples = pd.read_csv('./data/processed/llt_pt_examples.csv')\n",
    "all_llts = llt_pt_examples['term_LLT'].unique()\n",
    "\n",
    "llt_to_pt_mapping = dict(llt_pt_examples[['term_LLT', 'term_PT']].itertuples(index=False))\n",
    "\n",
    "all_pts = load_dataset('KevinSpaghetti/all_pts', split=Split.ALL)\n",
    "pt_vocab = dict(zip(all_pts['term'], all_pts['label']))\n",
    "index_to_label = dict(zip(all_pts['label'], all_pts['term']))\n",
    "print(len(pt_vocab))"
   ]
  },
  {
   "cell_type": "code",
   "execution_count": 11,
   "id": "16eb8db6",
   "metadata": {},
   "outputs": [],
   "source": [
    "model = AutoModelForSequenceClassification.from_pretrained(\n",
    "    './models/cadec/pretraining-classifier/checkpoint-6496',\n",
    "    num_labels=len(pt_vocab),\n",
    "    label2id=pt_vocab,\n",
    "    id2label={pt_vocab[k]: k for k in pt_vocab},\n",
    "    cache_dir='./cache/')"
   ]
  },
  {
   "cell_type": "code",
   "execution_count": 13,
   "id": "e44699a2",
   "metadata": {
    "scrolled": true
   },
   "outputs": [
    {
     "name": "stderr",
     "output_type": "stream",
     "text": [
      "Loading cached processed dataset at /home/kevinds/.cache/huggingface/datasets/KevinSpaghetti___parquet/KevinSpaghetti--cadec-d97aca76af8be810/0.0.0/2a3b91fbd88a2c90d1dbbb32b460cf621d31bd5b05b934492fdef7d8d6f236ec/cache-c76b96fcef591309.arrow\n",
      "Loading cached processed dataset at /home/kevinds/.cache/huggingface/datasets/KevinSpaghetti___parquet/KevinSpaghetti--cadec-d97aca76af8be810/0.0.0/2a3b91fbd88a2c90d1dbbb32b460cf621d31bd5b05b934492fdef7d8d6f236ec/cache-3c03f1d5f6eda4ca.arrow\n",
      "Loading cached processed dataset at /home/kevinds/.cache/huggingface/datasets/KevinSpaghetti___parquet/KevinSpaghetti--cadec-d97aca76af8be810/0.0.0/2a3b91fbd88a2c90d1dbbb32b460cf621d31bd5b05b934492fdef7d8d6f236ec/cache-e10d86cac4d975b4.arrow\n",
      "Loading cached processed dataset at /home/kevinds/.cache/huggingface/datasets/KevinSpaghetti___parquet/KevinSpaghetti--cadec-d97aca76af8be810/0.0.0/2a3b91fbd88a2c90d1dbbb32b460cf621d31bd5b05b934492fdef7d8d6f236ec/cache-e5a77c47dec9701b.arrow\n"
     ]
    }
   ],
   "source": [
    "model.eval()\n",
    "model.to(device)\n",
    "model_name = 'allenai/scibert_scivocab_uncased'\n",
    "tokenizer = AutoTokenizer.from_pretrained(model_name)\n",
    "\n",
    "test=cadec['test'].map(lambda x: {'label': pt_vocab[x['term_PT']]}, remove_columns=['term_PT'])\n",
    "train=cadec['train'].map(lambda x: {'label': pt_vocab[x['term_PT']]}, remove_columns=['term_PT'])\n",
    "\n",
    "seen, unseen = get_seen_unseen_split(train, test, label_col='label')\n",
    "\n",
    "results = {}"
   ]
  },
  {
   "cell_type": "code",
   "execution_count": 14,
   "id": "c6a57ff5",
   "metadata": {
    "scrolled": true
   },
   "outputs": [
    {
     "name": "stderr",
     "output_type": "stream",
     "text": [
      "100%|████████████████████████████████████████| 1121/1121 [00:10<00:00, 110.50it/s]\n"
     ]
    }
   ],
   "source": [
    "accuracy_1 = evaluate.load(\"KevinSpaghetti/accuracyk\")\n",
    "accuracy_5 = evaluate.load(\"KevinSpaghetti/accuracyk\")\n",
    "\n",
    "with torch.no_grad():\n",
    "    for row in tqdm(test):\n",
    "        model_inputs = tokenizer(row['ade'], padding='max_length', max_length=32, return_tensors='pt').to(device)\n",
    "        model_predictions = model(**model_inputs)\n",
    "        logits = model_predictions.get('logits').cpu()\n",
    "\n",
    "        top1_pred = np.argmax(logits, axis=-1, keepdims=True)\n",
    "        top5_pred = np.argpartition(logits, -5, axis=-1)[:, -5:]\n",
    "\n",
    "        accuracy_1.add_batch(predictions=top1_pred, references=[row['label']])\n",
    "        accuracy_5.add_batch(predictions=top5_pred, references=[row['label']])\n",
    "\n",
    "    results['complete'] = {\n",
    "        'top1': accuracy_1.compute()['accuracy'],\n",
    "        'top5': accuracy_5.compute()['accuracy']\n",
    "    }"
   ]
  },
  {
   "cell_type": "code",
   "execution_count": 15,
   "id": "81606688",
   "metadata": {},
   "outputs": [
    {
     "name": "stderr",
     "output_type": "stream",
     "text": [
      "100%|████████████████████████████████████████| 1083/1083 [00:09<00:00, 110.92it/s]\n"
     ]
    }
   ],
   "source": [
    "accuracy_1 = evaluate.load(\"KevinSpaghetti/accuracyk\")\n",
    "accuracy_5 = evaluate.load(\"KevinSpaghetti/accuracyk\")\n",
    "\n",
    "with torch.no_grad():\n",
    "    for row in tqdm(seen):\n",
    "        model_inputs = tokenizer(row['ade'], padding='max_length', max_length=32, return_tensors='pt').to(device)\n",
    "        model_predictions = model(**model_inputs)\n",
    "        logits = model_predictions.get('logits').cpu()\n",
    "        \n",
    "        top1_pred = np.argmax(logits, axis=-1, keepdims=True)\n",
    "        top5_pred = np.argpartition(logits, -5, axis=-1)[:, -5:]\n",
    "        \n",
    "        accuracy_1.add_batch(predictions=top1_pred, references=[row['label']])\n",
    "        accuracy_5.add_batch(predictions=top5_pred, references=[row['label']])\n",
    "    \n",
    "    results['seen'] = {\n",
    "        'top1': accuracy_1.compute()['accuracy'],\n",
    "        'top5': accuracy_5.compute()['accuracy']\n",
    "    }"
   ]
  },
  {
   "cell_type": "code",
   "execution_count": 16,
   "id": "41eaabcc",
   "metadata": {},
   "outputs": [
    {
     "name": "stderr",
     "output_type": "stream",
     "text": [
      "100%|█████████████████████████████████████████████| 38/38 [00:01<00:00, 28.24it/s]\n"
     ]
    }
   ],
   "source": [
    "accuracy_1 = evaluate.load(\"KevinSpaghetti/accuracyk\")\n",
    "accuracy_5 = evaluate.load(\"KevinSpaghetti/accuracyk\")\n",
    "\n",
    "with torch.no_grad():\n",
    "    for row in tqdm(unseen):\n",
    "        model_inputs = tokenizer(row['ade'], padding='max_length', max_length=32, return_tensors='pt').to(device)\n",
    "        model_predictions = model(**model_inputs)\n",
    "        logits = model_predictions.get('logits').cpu()\n",
    "        \n",
    "        top1_pred = np.argmax(logits, axis=-1, keepdims=True)\n",
    "        top5_pred = np.argpartition(logits, -5, axis=-1)[:, -5:]\n",
    "        \n",
    "        accuracy_1.add_batch(predictions=top1_pred, references=[row['label']])\n",
    "        accuracy_5.add_batch(predictions=top5_pred, references=[row['label']])\n",
    "    \n",
    "    results['unseen'] = {\n",
    "        'top1': accuracy_1.compute()['accuracy'],\n",
    "        'top5': accuracy_5.compute()['accuracy']\n",
    "    }"
   ]
  },
  {
   "cell_type": "code",
   "execution_count": 17,
   "id": "6cad9e4c",
   "metadata": {},
   "outputs": [
    {
     "data": {
      "text/plain": [
       "{'complete': {'top1': 0.8305084745762712, 'top5': 0.903657448706512},\n",
       " 'seen': {'top1': 0.8485687903970452, 'top5': 0.9187442289935365},\n",
       " 'unseen': {'top1': 0.3157894736842105, 'top5': 0.47368421052631576}}"
      ]
     },
     "execution_count": 17,
     "metadata": {},
     "output_type": "execute_result"
    }
   ],
   "source": [
    "results"
   ]
  }
 ],
 "metadata": {
  "kernelspec": {
   "display_name": "venv",
   "language": "python",
   "name": "venv"
  },
  "language_info": {
   "codemirror_mode": {
    "name": "ipython",
    "version": 3
   },
   "file_extension": ".py",
   "mimetype": "text/x-python",
   "name": "python",
   "nbconvert_exporter": "python",
   "pygments_lexer": "ipython3",
   "version": "3.8.6"
  },
  "widgets": {
   "application/vnd.jupyter.widget-state+json": {
    "state": {
     "0b47b37663be4b34ac96e1380dab0094": {
      "model_module": "@jupyter-widgets/base",
      "model_module_version": "1.2.0",
      "model_name": "LayoutModel",
      "state": {
       "_model_module": "@jupyter-widgets/base",
       "_model_module_version": "1.2.0",
       "_model_name": "LayoutModel",
       "_view_count": null,
       "_view_module": "@jupyter-widgets/base",
       "_view_module_version": "1.2.0",
       "_view_name": "LayoutView",
       "align_content": null,
       "align_items": null,
       "align_self": null,
       "border": null,
       "bottom": null,
       "display": null,
       "flex": null,
       "flex_flow": null,
       "grid_area": null,
       "grid_auto_columns": null,
       "grid_auto_flow": null,
       "grid_auto_rows": null,
       "grid_column": null,
       "grid_gap": null,
       "grid_row": null,
       "grid_template_areas": null,
       "grid_template_columns": null,
       "grid_template_rows": null,
       "height": null,
       "justify_content": null,
       "justify_items": null,
       "left": null,
       "margin": null,
       "max_height": null,
       "max_width": null,
       "min_height": null,
       "min_width": null,
       "object_fit": null,
       "object_position": null,
       "order": null,
       "overflow": null,
       "overflow_x": null,
       "overflow_y": null,
       "padding": null,
       "right": null,
       "top": null,
       "visibility": null,
       "width": null
      }
     },
     "7ea31ee55f73496f94ea3460330eca01": {
      "model_module": "@jupyter-widgets/controls",
      "model_module_version": "1.5.0",
      "model_name": "LabelModel",
      "state": {
       "_dom_classes": [],
       "_model_module": "@jupyter-widgets/controls",
       "_model_module_version": "1.5.0",
       "_model_name": "LabelModel",
       "_view_count": null,
       "_view_module": "@jupyter-widgets/controls",
       "_view_module_version": "1.5.0",
       "_view_name": "LabelView",
       "description": "",
       "description_tooltip": null,
       "layout": "IPY_MODEL_e317a296f7d14b4d81a9c6a80c55c43e",
       "placeholder": "​",
       "style": "IPY_MODEL_c42289d666444723abe79a3cbfcb6438",
       "value": ""
      }
     },
     "814cc9fdf0d1493680a1e325a0c204e8": {
      "model_module": "@jupyter-widgets/controls",
      "model_module_version": "1.5.0",
      "model_name": "FloatProgressModel",
      "state": {
       "_dom_classes": [],
       "_model_module": "@jupyter-widgets/controls",
       "_model_module_version": "1.5.0",
       "_model_name": "FloatProgressModel",
       "_view_count": null,
       "_view_module": "@jupyter-widgets/controls",
       "_view_module_version": "1.5.0",
       "_view_name": "ProgressView",
       "bar_style": "",
       "description": "",
       "description_tooltip": null,
       "layout": "IPY_MODEL_c0f2290027804b3a90426f043e5a918c",
       "max": 1,
       "min": 0,
       "orientation": "horizontal",
       "style": "IPY_MODEL_f00be40201914f3b9e2cdf71394df3d3",
       "value": 0
      }
     },
     "93498be945b8498cbe8411a62bfed70e": {
      "model_module": "@jupyter-widgets/controls",
      "model_module_version": "1.5.0",
      "model_name": "VBoxModel",
      "state": {
       "_dom_classes": [],
       "_model_module": "@jupyter-widgets/controls",
       "_model_module_version": "1.5.0",
       "_model_name": "VBoxModel",
       "_view_count": null,
       "_view_module": "@jupyter-widgets/controls",
       "_view_module_version": "1.5.0",
       "_view_name": "VBoxView",
       "box_style": "",
       "children": [
        "IPY_MODEL_7ea31ee55f73496f94ea3460330eca01",
        "IPY_MODEL_814cc9fdf0d1493680a1e325a0c204e8"
       ],
       "layout": "IPY_MODEL_0b47b37663be4b34ac96e1380dab0094"
      }
     },
     "c0f2290027804b3a90426f043e5a918c": {
      "model_module": "@jupyter-widgets/base",
      "model_module_version": "1.2.0",
      "model_name": "LayoutModel",
      "state": {
       "_model_module": "@jupyter-widgets/base",
       "_model_module_version": "1.2.0",
       "_model_name": "LayoutModel",
       "_view_count": null,
       "_view_module": "@jupyter-widgets/base",
       "_view_module_version": "1.2.0",
       "_view_name": "LayoutView",
       "align_content": null,
       "align_items": null,
       "align_self": null,
       "border": null,
       "bottom": null,
       "display": null,
       "flex": null,
       "flex_flow": null,
       "grid_area": null,
       "grid_auto_columns": null,
       "grid_auto_flow": null,
       "grid_auto_rows": null,
       "grid_column": null,
       "grid_gap": null,
       "grid_row": null,
       "grid_template_areas": null,
       "grid_template_columns": null,
       "grid_template_rows": null,
       "height": null,
       "justify_content": null,
       "justify_items": null,
       "left": null,
       "margin": null,
       "max_height": null,
       "max_width": null,
       "min_height": null,
       "min_width": null,
       "object_fit": null,
       "object_position": null,
       "order": null,
       "overflow": null,
       "overflow_x": null,
       "overflow_y": null,
       "padding": null,
       "right": null,
       "top": null,
       "visibility": null,
       "width": null
      }
     },
     "c42289d666444723abe79a3cbfcb6438": {
      "model_module": "@jupyter-widgets/controls",
      "model_module_version": "1.5.0",
      "model_name": "DescriptionStyleModel",
      "state": {
       "_model_module": "@jupyter-widgets/controls",
       "_model_module_version": "1.5.0",
       "_model_name": "DescriptionStyleModel",
       "_view_count": null,
       "_view_module": "@jupyter-widgets/base",
       "_view_module_version": "1.2.0",
       "_view_name": "StyleView",
       "description_width": ""
      }
     },
     "e317a296f7d14b4d81a9c6a80c55c43e": {
      "model_module": "@jupyter-widgets/base",
      "model_module_version": "1.2.0",
      "model_name": "LayoutModel",
      "state": {
       "_model_module": "@jupyter-widgets/base",
       "_model_module_version": "1.2.0",
       "_model_name": "LayoutModel",
       "_view_count": null,
       "_view_module": "@jupyter-widgets/base",
       "_view_module_version": "1.2.0",
       "_view_name": "LayoutView",
       "align_content": null,
       "align_items": null,
       "align_self": null,
       "border": null,
       "bottom": null,
       "display": null,
       "flex": null,
       "flex_flow": null,
       "grid_area": null,
       "grid_auto_columns": null,
       "grid_auto_flow": null,
       "grid_auto_rows": null,
       "grid_column": null,
       "grid_gap": null,
       "grid_row": null,
       "grid_template_areas": null,
       "grid_template_columns": null,
       "grid_template_rows": null,
       "height": null,
       "justify_content": null,
       "justify_items": null,
       "left": null,
       "margin": null,
       "max_height": null,
       "max_width": null,
       "min_height": null,
       "min_width": null,
       "object_fit": null,
       "object_position": null,
       "order": null,
       "overflow": null,
       "overflow_x": null,
       "overflow_y": null,
       "padding": null,
       "right": null,
       "top": null,
       "visibility": null,
       "width": null
      }
     },
     "f00be40201914f3b9e2cdf71394df3d3": {
      "model_module": "@jupyter-widgets/controls",
      "model_module_version": "1.5.0",
      "model_name": "ProgressStyleModel",
      "state": {
       "_model_module": "@jupyter-widgets/controls",
       "_model_module_version": "1.5.0",
       "_model_name": "ProgressStyleModel",
       "_view_count": null,
       "_view_module": "@jupyter-widgets/base",
       "_view_module_version": "1.2.0",
       "_view_name": "StyleView",
       "bar_color": null,
       "description_width": ""
      }
     }
    },
    "version_major": 2,
    "version_minor": 0
   }
  }
 },
 "nbformat": 4,
 "nbformat_minor": 5
}
