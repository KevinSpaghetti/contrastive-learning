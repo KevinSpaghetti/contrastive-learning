{
 "cells": [
  {
   "cell_type": "markdown",
   "id": "c6239e65",
   "metadata": {},
   "source": [
    "## Evaluate models based on nearest-neighbor"
   ]
  },
  {
   "cell_type": "code",
   "execution_count": 1,
   "id": "cdfa10a6",
   "metadata": {
    "execution": {
     "iopub.execute_input": "2022-08-27T19:46:18.307270Z",
     "iopub.status.busy": "2022-08-27T19:46:18.306591Z",
     "iopub.status.idle": "2022-08-27T19:46:20.236740Z",
     "shell.execute_reply": "2022-08-27T19:46:20.235593Z"
    }
   },
   "outputs": [],
   "source": [
    "import os\n",
    "import sys\n",
    "import random\n",
    "\n",
    "p = os.path.abspath('../')\n",
    "sys.path.insert(1, p)\n",
    "\n",
    "os.environ[\"TOKENIZERS_PARALLELISM\"] = \"true\"\n",
    "os.environ[\"TRANSFORMERS_NO_ADVISORY_WARNINGS\"] = \"1\"\n",
    "\n",
    "import transformers\n",
    "transformers.logging.set_verbosity_error()\n",
    "\n",
    "import pandas as pd\n",
    "import numpy as np\n",
    "import torch\n",
    "import torch.nn as nn\n",
    "from tqdm import tqdm\n",
    "\n",
    "import matplotlib.pyplot as plt\n",
    "\n",
    "from sklearn.neighbors import NearestNeighbors\n",
    "\n",
    "from datasets import Dataset, load_dataset, Split\n",
    "\n",
    "import seaborn as sns\n",
    "sns.set_theme(color_codes=True)\n",
    "\n",
    "from transformers import DataCollatorWithPadding, AutoModelForSequenceClassification, Trainer, TrainingArguments\n",
    "import evaluate\n",
    "\n",
    "from src.contrastive_transformers.collators import TextCollator\n",
    "from src.contrastive_transformers.datasets import AutoAugmentDataset\n",
    "from src.contrastive_transformers.trainers import ContrastiveTrainer\n",
    "from src.contrastive_transformers.losses import SupConLoss\n",
    "\n",
    "from src.utils.utils import * \n",
    "\n",
    "seed = 7631\n",
    "random.seed(seed)\n",
    "np.random.seed(seed)\n",
    "torch.manual_seed(seed)\n",
    "torch.cuda.manual_seed(seed)\n",
    "torch.backends.cudnn.deterministic = True\n",
    "\n",
    "batch_size = 64\n",
    "\n",
    "device = torch.device('cuda' if torch.cuda.is_available() else 'cpu')\n",
    "\n",
    "%load_ext autoreload\n",
    "%autoreload 2"
   ]
  },
  {
   "cell_type": "code",
   "execution_count": 2,
   "id": "aff0f461",
   "metadata": {
    "execution": {
     "iopub.execute_input": "2022-08-27T19:46:20.508106Z",
     "iopub.status.busy": "2022-08-27T19:46:20.507773Z",
     "iopub.status.idle": "2022-08-27T19:46:20.652229Z",
     "shell.execute_reply": "2022-08-27T19:46:20.651081Z"
    },
    "scrolled": true
   },
   "outputs": [
    {
     "name": "stderr",
     "output_type": "stream",
     "text": [
      "Using custom data configuration KevinSpaghetti--smm4h20-9b0cef5ffb10261f\n",
      "Found cached dataset parquet (/home/kevinds/.cache/huggingface/datasets/KevinSpaghetti___parquet/KevinSpaghetti--smm4h20-9b0cef5ffb10261f/0.0.0/2a3b91fbd88a2c90d1dbbb32b460cf621d31bd5b05b934492fdef7d8d6f236ec)\n"
     ]
    },
    {
     "data": {
      "application/vnd.jupyter.widget-view+json": {
       "model_id": "4a9622ca1c894ea8b9fc06114c31022f",
       "version_major": 2,
       "version_minor": 0
      },
      "text/plain": [
       "  0%|          | 0/2 [00:00<?, ?it/s]"
      ]
     },
     "metadata": {},
     "output_type": "display_data"
    },
    {
     "name": "stderr",
     "output_type": "stream",
     "text": [
      "Using custom data configuration KevinSpaghetti--cadec-d97aca76af8be810\n",
      "Found cached dataset parquet (/home/kevinds/.cache/huggingface/datasets/KevinSpaghetti___parquet/KevinSpaghetti--cadec-d97aca76af8be810/0.0.0/2a3b91fbd88a2c90d1dbbb32b460cf621d31bd5b05b934492fdef7d8d6f236ec)\n"
     ]
    },
    {
     "data": {
      "application/vnd.jupyter.widget-view+json": {
       "model_id": "0961d98a0220425d9a2d3625b67d8a74",
       "version_major": 2,
       "version_minor": 0
      },
      "text/plain": [
       "  0%|          | 0/2 [00:00<?, ?it/s]"
      ]
     },
     "metadata": {},
     "output_type": "display_data"
    },
    {
     "name": "stderr",
     "output_type": "stream",
     "text": [
      "Using custom data configuration KevinSpaghetti--all_pts-28f171117b934745\n",
      "Found cached dataset parquet (/home/kevinds/.cache/huggingface/datasets/KevinSpaghetti___parquet/KevinSpaghetti--all_pts-28f171117b934745/0.0.0/2a3b91fbd88a2c90d1dbbb32b460cf621d31bd5b05b934492fdef7d8d6f236ec)\n"
     ]
    },
    {
     "name": "stdout",
     "output_type": "stream",
     "text": [
      "24571\n"
     ]
    }
   ],
   "source": [
    "smm4h20 = load_dataset('KevinSpaghetti/smm4h20')\n",
    "cadec = load_dataset('KevinSpaghetti/cadec')\n",
    "\n",
    "meddra_ontology = pd.read_csv('./data/processed/meddra_ontology.csv')\n",
    "all_pts = meddra_ontology['term_PT'].unique()\n",
    "\n",
    "llt_pt_examples = pd.read_csv('./data/processed/llt_pt_examples.csv')\n",
    "all_llts = llt_pt_examples['term_LLT'].unique()\n",
    "\n",
    "llt_to_pt_mapping = dict(llt_pt_examples[['term_LLT', 'term_PT']].itertuples(index=False))\n",
    "\n",
    "all_pts = load_dataset('KevinSpaghetti/all_pts', split=Split.ALL)\n",
    "pt_vocab = dict(zip(all_pts['term'], all_pts['label']))\n",
    "index_to_label = dict(zip(all_pts['label'], all_pts['term']))\n",
    "print(len(pt_vocab))"
   ]
  },
  {
   "cell_type": "code",
   "execution_count": 65,
   "id": "16eb8db6",
   "metadata": {},
   "outputs": [],
   "source": [
    "model = AutoModel.from_pretrained(\n",
    "    'bert-base-uncased',\n",
    "    cache_dir='./cache/')"
   ]
  },
  {
   "cell_type": "code",
   "execution_count": 66,
   "id": "e44699a2",
   "metadata": {
    "scrolled": false
   },
   "outputs": [
    {
     "name": "stderr",
     "output_type": "stream",
     "text": [
      "Loading cached processed dataset at /home/kevinds/.cache/huggingface/datasets/KevinSpaghetti___parquet/KevinSpaghetti--cadec-d97aca76af8be810/0.0.0/2a3b91fbd88a2c90d1dbbb32b460cf621d31bd5b05b934492fdef7d8d6f236ec/cache-f7fb3b2ba43ca60d.arrow\n",
      "Loading cached processed dataset at /home/kevinds/.cache/huggingface/datasets/KevinSpaghetti___parquet/KevinSpaghetti--cadec-d97aca76af8be810/0.0.0/2a3b91fbd88a2c90d1dbbb32b460cf621d31bd5b05b934492fdef7d8d6f236ec/cache-f3c1c5f1a96d4bee.arrow\n",
      "Loading cached processed dataset at /home/kevinds/.cache/huggingface/datasets/KevinSpaghetti___parquet/KevinSpaghetti--cadec-d97aca76af8be810/0.0.0/2a3b91fbd88a2c90d1dbbb32b460cf621d31bd5b05b934492fdef7d8d6f236ec/cache-4012229c18c65204.arrow\n",
      "Loading cached processed dataset at /home/kevinds/.cache/huggingface/datasets/KevinSpaghetti___parquet/KevinSpaghetti--cadec-d97aca76af8be810/0.0.0/2a3b91fbd88a2c90d1dbbb32b460cf621d31bd5b05b934492fdef7d8d6f236ec/cache-2d63e3a74735e8a8.arrow\n"
     ]
    }
   ],
   "source": [
    "model.eval()\n",
    "model.to(device)\n",
    "model_name = 'bert-base-uncased'\n",
    "tokenizer = AutoTokenizer.from_pretrained(model_name)\n",
    "\n",
    "test=cadec['test'].map(lambda x: {'label': pt_vocab[x['term_PT']]}, remove_columns=['term_PT'])\n",
    "train=cadec['train'].map(lambda x: {'label': pt_vocab[x['term_PT']]}, remove_columns=['term_PT'])\n",
    "\n",
    "seen, unseen = get_seen_unseen_split(train, test, label_col='label')\n",
    "\n",
    "results = {}"
   ]
  },
  {
   "cell_type": "code",
   "execution_count": 67,
   "id": "27402bb0",
   "metadata": {},
   "outputs": [],
   "source": [
    "def encode_classes(model, classes, num_classes, label_col='label', encode_col='term'):\n",
    "    class_encodings = torch.zeros((num_classes, model.config.hidden_size), device=device)\n",
    "    with torch.no_grad():\n",
    "        for idx in tqdm(range(0, len(classes), batch_size), total=len(classes) // batch_size):\n",
    "            batch_start = idx\n",
    "            batch_end = min(len(classes), batch_start+batch_size)\n",
    "            model_inputs = tokenizer(classes[batch_start:batch_end][encode_col], padding='max_length', max_length=32, return_tensors='pt').to(device)\n",
    "            model_output = model(**model_inputs, output_hidden_states=True)\n",
    "            embedding = model_output.pooler_output\n",
    "            class_encodings[classes[batch_start:batch_end][label_col]] += embedding\n",
    "    \n",
    "    class_encodings = class_encodings.to('cpu', non_blocking=True)\n",
    "    return class_encodings"
   ]
  },
  {
   "cell_type": "code",
   "execution_count": 68,
   "id": "fa1e2829",
   "metadata": {},
   "outputs": [],
   "source": [
    "def encode_samples(model, samples):\n",
    "    with torch.no_grad():\n",
    "        sample_encodings = torch.zeros((len(samples), model.config.hidden_size), device=device)\n",
    "        for idx in tqdm(range(0, len(samples), batch_size), total=len(samples) // batch_size):\n",
    "            batch_start = idx\n",
    "            batch_end = min(len(samples), batch_start+batch_size)\n",
    "            model_inputs = tokenizer(samples[batch_start:batch_end], padding='max_length', max_length=32, return_tensors='pt').to(device)\n",
    "            model_output = model(**model_inputs, output_hidden_states=True)\n",
    "            model_prediction = model_output.pooler_output\n",
    "            sample_encodings[batch_start:batch_end] = model_prediction\n",
    "    return sample_encodings"
   ]
  },
  {
   "cell_type": "code",
   "execution_count": 69,
   "id": "10024f12",
   "metadata": {},
   "outputs": [
    {
     "name": "stderr",
     "output_type": "stream",
     "text": [
      "384it [00:10, 35.23it/s]                                        \n"
     ]
    }
   ],
   "source": [
    "class_encodings = encode_classes(model, \n",
    "                                 all_pts, \n",
    "                                 len(pt_vocab), \n",
    "                                 label_col='label',\n",
    "                                 encode_col='term')"
   ]
  },
  {
   "cell_type": "code",
   "execution_count": 70,
   "id": "32b9fc4a",
   "metadata": {},
   "outputs": [
    {
     "name": "stderr",
     "output_type": "stream",
     "text": [
      "18it [00:00, 39.30it/s]                                         \n",
      "17it [00:00, 39.30it/s]                                         \n",
      "1it [00:00, 83.58it/s]\n"
     ]
    }
   ],
   "source": [
    "accuracyk = evaluate.load('KevinSpaghetti/accuracyk')\n",
    "\n",
    "embedding_index = NearestNeighbors(n_neighbors=5, \n",
    "                                   metric='cosine', \n",
    "                                   algorithm='brute', \n",
    "                                   n_jobs=-1).fit(class_encodings.to('cpu'))\n",
    "\n",
    "encoded_samples = encode_samples(model, test['ade'])\n",
    "_, predictions = embedding_index.kneighbors(encoded_samples.cpu())\n",
    "results['complete'] = {\n",
    "    'top1': accuracyk.compute(predictions=predictions[:, 0][:, None], references=test['label'])['accuracy'],\n",
    "    'top5': accuracyk.compute(predictions=predictions, references=test['label'])['accuracy']\n",
    "}\n",
    "\n",
    "encoded_samples = encode_samples(model, seen['ade'])\n",
    "_, predictions = embedding_index.kneighbors(encoded_samples.cpu())\n",
    "results['seen'] = {\n",
    "    'top1': accuracyk.compute(predictions=predictions[:, 0][:, None], references=seen['label'])['accuracy'],\n",
    "    'top5': accuracyk.compute(predictions=predictions, references=seen['label'])['accuracy']\n",
    "}\n",
    "\n",
    "encoded_samples = encode_samples(model, unseen['ade'])\n",
    "_, predictions = embedding_index.kneighbors(encoded_samples.cpu())\n",
    "results['unseen'] = {\n",
    "    'top1': accuracyk.compute(predictions=predictions[:, 0][:, None], references=unseen['label'])['accuracy'],\n",
    "    'top5': accuracyk.compute(predictions=predictions, references=unseen['label'])['accuracy']\n",
    "}"
   ]
  },
  {
   "cell_type": "code",
   "execution_count": 71,
   "id": "6cad9e4c",
   "metadata": {},
   "outputs": [
    {
     "data": {
      "text/plain": [
       "{'complete': {'top1': 0.1462979482604817, 'top5': 0.14986619090098127},\n",
       " 'seen': {'top1': 0.14681440443213298, 'top5': 0.1505078485687904},\n",
       " 'unseen': {'top1': 0.13157894736842105, 'top5': 0.13157894736842105}}"
      ]
     },
     "execution_count": 71,
     "metadata": {},
     "output_type": "execute_result"
    }
   ],
   "source": [
    "results"
   ]
  }
 ],
 "metadata": {
  "kernelspec": {
   "display_name": "venv",
   "language": "python",
   "name": "venv"
  },
  "language_info": {
   "codemirror_mode": {
    "name": "ipython",
    "version": 3
   },
   "file_extension": ".py",
   "mimetype": "text/x-python",
   "name": "python",
   "nbconvert_exporter": "python",
   "pygments_lexer": "ipython3",
   "version": "3.8.6"
  },
  "widgets": {
   "application/vnd.jupyter.widget-state+json": {
    "state": {
     "0b47b37663be4b34ac96e1380dab0094": {
      "model_module": "@jupyter-widgets/base",
      "model_module_version": "1.2.0",
      "model_name": "LayoutModel",
      "state": {
       "_model_module": "@jupyter-widgets/base",
       "_model_module_version": "1.2.0",
       "_model_name": "LayoutModel",
       "_view_count": null,
       "_view_module": "@jupyter-widgets/base",
       "_view_module_version": "1.2.0",
       "_view_name": "LayoutView",
       "align_content": null,
       "align_items": null,
       "align_self": null,
       "border": null,
       "bottom": null,
       "display": null,
       "flex": null,
       "flex_flow": null,
       "grid_area": null,
       "grid_auto_columns": null,
       "grid_auto_flow": null,
       "grid_auto_rows": null,
       "grid_column": null,
       "grid_gap": null,
       "grid_row": null,
       "grid_template_areas": null,
       "grid_template_columns": null,
       "grid_template_rows": null,
       "height": null,
       "justify_content": null,
       "justify_items": null,
       "left": null,
       "margin": null,
       "max_height": null,
       "max_width": null,
       "min_height": null,
       "min_width": null,
       "object_fit": null,
       "object_position": null,
       "order": null,
       "overflow": null,
       "overflow_x": null,
       "overflow_y": null,
       "padding": null,
       "right": null,
       "top": null,
       "visibility": null,
       "width": null
      }
     },
     "7ea31ee55f73496f94ea3460330eca01": {
      "model_module": "@jupyter-widgets/controls",
      "model_module_version": "1.5.0",
      "model_name": "LabelModel",
      "state": {
       "_dom_classes": [],
       "_model_module": "@jupyter-widgets/controls",
       "_model_module_version": "1.5.0",
       "_model_name": "LabelModel",
       "_view_count": null,
       "_view_module": "@jupyter-widgets/controls",
       "_view_module_version": "1.5.0",
       "_view_name": "LabelView",
       "description": "",
       "description_tooltip": null,
       "layout": "IPY_MODEL_e317a296f7d14b4d81a9c6a80c55c43e",
       "placeholder": "​",
       "style": "IPY_MODEL_c42289d666444723abe79a3cbfcb6438",
       "value": ""
      }
     },
     "814cc9fdf0d1493680a1e325a0c204e8": {
      "model_module": "@jupyter-widgets/controls",
      "model_module_version": "1.5.0",
      "model_name": "FloatProgressModel",
      "state": {
       "_dom_classes": [],
       "_model_module": "@jupyter-widgets/controls",
       "_model_module_version": "1.5.0",
       "_model_name": "FloatProgressModel",
       "_view_count": null,
       "_view_module": "@jupyter-widgets/controls",
       "_view_module_version": "1.5.0",
       "_view_name": "ProgressView",
       "bar_style": "",
       "description": "",
       "description_tooltip": null,
       "layout": "IPY_MODEL_c0f2290027804b3a90426f043e5a918c",
       "max": 1,
       "min": 0,
       "orientation": "horizontal",
       "style": "IPY_MODEL_f00be40201914f3b9e2cdf71394df3d3",
       "value": 0
      }
     },
     "93498be945b8498cbe8411a62bfed70e": {
      "model_module": "@jupyter-widgets/controls",
      "model_module_version": "1.5.0",
      "model_name": "VBoxModel",
      "state": {
       "_dom_classes": [],
       "_model_module": "@jupyter-widgets/controls",
       "_model_module_version": "1.5.0",
       "_model_name": "VBoxModel",
       "_view_count": null,
       "_view_module": "@jupyter-widgets/controls",
       "_view_module_version": "1.5.0",
       "_view_name": "VBoxView",
       "box_style": "",
       "children": [
        "IPY_MODEL_7ea31ee55f73496f94ea3460330eca01",
        "IPY_MODEL_814cc9fdf0d1493680a1e325a0c204e8"
       ],
       "layout": "IPY_MODEL_0b47b37663be4b34ac96e1380dab0094"
      }
     },
     "c0f2290027804b3a90426f043e5a918c": {
      "model_module": "@jupyter-widgets/base",
      "model_module_version": "1.2.0",
      "model_name": "LayoutModel",
      "state": {
       "_model_module": "@jupyter-widgets/base",
       "_model_module_version": "1.2.0",
       "_model_name": "LayoutModel",
       "_view_count": null,
       "_view_module": "@jupyter-widgets/base",
       "_view_module_version": "1.2.0",
       "_view_name": "LayoutView",
       "align_content": null,
       "align_items": null,
       "align_self": null,
       "border": null,
       "bottom": null,
       "display": null,
       "flex": null,
       "flex_flow": null,
       "grid_area": null,
       "grid_auto_columns": null,
       "grid_auto_flow": null,
       "grid_auto_rows": null,
       "grid_column": null,
       "grid_gap": null,
       "grid_row": null,
       "grid_template_areas": null,
       "grid_template_columns": null,
       "grid_template_rows": null,
       "height": null,
       "justify_content": null,
       "justify_items": null,
       "left": null,
       "margin": null,
       "max_height": null,
       "max_width": null,
       "min_height": null,
       "min_width": null,
       "object_fit": null,
       "object_position": null,
       "order": null,
       "overflow": null,
       "overflow_x": null,
       "overflow_y": null,
       "padding": null,
       "right": null,
       "top": null,
       "visibility": null,
       "width": null
      }
     },
     "c42289d666444723abe79a3cbfcb6438": {
      "model_module": "@jupyter-widgets/controls",
      "model_module_version": "1.5.0",
      "model_name": "DescriptionStyleModel",
      "state": {
       "_model_module": "@jupyter-widgets/controls",
       "_model_module_version": "1.5.0",
       "_model_name": "DescriptionStyleModel",
       "_view_count": null,
       "_view_module": "@jupyter-widgets/base",
       "_view_module_version": "1.2.0",
       "_view_name": "StyleView",
       "description_width": ""
      }
     },
     "e317a296f7d14b4d81a9c6a80c55c43e": {
      "model_module": "@jupyter-widgets/base",
      "model_module_version": "1.2.0",
      "model_name": "LayoutModel",
      "state": {
       "_model_module": "@jupyter-widgets/base",
       "_model_module_version": "1.2.0",
       "_model_name": "LayoutModel",
       "_view_count": null,
       "_view_module": "@jupyter-widgets/base",
       "_view_module_version": "1.2.0",
       "_view_name": "LayoutView",
       "align_content": null,
       "align_items": null,
       "align_self": null,
       "border": null,
       "bottom": null,
       "display": null,
       "flex": null,
       "flex_flow": null,
       "grid_area": null,
       "grid_auto_columns": null,
       "grid_auto_flow": null,
       "grid_auto_rows": null,
       "grid_column": null,
       "grid_gap": null,
       "grid_row": null,
       "grid_template_areas": null,
       "grid_template_columns": null,
       "grid_template_rows": null,
       "height": null,
       "justify_content": null,
       "justify_items": null,
       "left": null,
       "margin": null,
       "max_height": null,
       "max_width": null,
       "min_height": null,
       "min_width": null,
       "object_fit": null,
       "object_position": null,
       "order": null,
       "overflow": null,
       "overflow_x": null,
       "overflow_y": null,
       "padding": null,
       "right": null,
       "top": null,
       "visibility": null,
       "width": null
      }
     },
     "f00be40201914f3b9e2cdf71394df3d3": {
      "model_module": "@jupyter-widgets/controls",
      "model_module_version": "1.5.0",
      "model_name": "ProgressStyleModel",
      "state": {
       "_model_module": "@jupyter-widgets/controls",
       "_model_module_version": "1.5.0",
       "_model_name": "ProgressStyleModel",
       "_view_count": null,
       "_view_module": "@jupyter-widgets/base",
       "_view_module_version": "1.2.0",
       "_view_name": "StyleView",
       "bar_color": null,
       "description_width": ""
      }
     }
    },
    "version_major": 2,
    "version_minor": 0
   }
  }
 },
 "nbformat": 4,
 "nbformat_minor": 5
}
